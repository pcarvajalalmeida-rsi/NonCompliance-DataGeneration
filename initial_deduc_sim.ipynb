{
 "cells": [
  {
   "cell_type": "markdown",
   "id": "6f7b17be-a865-4d3c-8a94-beaae7aaa174",
   "metadata": {},
   "source": [
    "## Numpy random numbers generation\n",
    "Here is the generation of deductions and the aggregate deduction of them."
   ]
  },
  {
   "cell_type": "code",
   "execution_count": 2,
   "id": "bc6e54f7-ac14-453f-812c-6f543926e3c8",
   "metadata": {},
   "outputs": [],
   "source": [
    "import numpy as np\n",
    "import pandas as pd\n",
    "from numpy.random import seed\n",
    "#from numpy.random import rand      #Uniform\n",
    "from numpy.random import randn     #gaussian\n",
    "#from numpy.random import randint   #integers\n",
    "import yaml\n",
    "\n",
    "from dstools.config.baseconfig import YmlConfig\n",
    "from dstools.sqlutils.sqlconfig import SQLConfig\n",
    "from dstools.sqlutils.util import DbConnectGenerator"
   ]
  },
  {
   "cell_type": "code",
   "execution_count": 3,
   "id": "41aeed83-7832-4785-859e-47da08b90b86",
   "metadata": {},
   "outputs": [],
   "source": [
    "seed = 1"
   ]
  },
  {
   "cell_type": "code",
   "execution_count": 4,
   "id": "5da38b7f-ea8a-459a-9fca-005c704bcbce",
   "metadata": {},
   "outputs": [],
   "source": [
    "# Gaussian distribution\n",
    "#help(randn)"
   ]
  },
  {
   "cell_type": "code",
   "execution_count": 5,
   "id": "d8c129e1-6710-46d2-9383-df9d3ed3a69a",
   "metadata": {},
   "outputs": [
    {
     "name": "stdout",
     "output_type": "stream",
     "text": [
      "{'naics': 81, 'size': 's', 'gen_sample_size': 1000, 'deduc_prob_usage': {'deduc_x': 0.9, 'deduc_16': 0.001369, 'deduc_17': 0.017539}, 'distribution': {'deduc_x': 'uniform', 'deduc_16': 'uniform', 'deduc_17': 'uniform'}, 'parameters': {'deduc_x': {'low': 0, 'high': 1}, 'deduc_16': {'low': 0, 'high': 1}, 'deduc_17': {'low': 0, 'high': 1}}}\n",
      "<class 'dict'>\n"
     ]
    }
   ],
   "source": [
    "with open('deduc_gen_config.yaml','r') as read_file:\n",
    "    yml = yaml.safe_load(read_file)\n",
    "    print(yml)\n",
    "    print(type(yml))"
   ]
  },
  {
   "cell_type": "code",
   "execution_count": 6,
   "id": "c73a62e9-46ce-4e51-8bda-5680838f9c94",
   "metadata": {},
   "outputs": [
    {
     "data": {
      "text/plain": [
       "3"
      ]
     },
     "execution_count": 6,
     "metadata": {},
     "output_type": "execute_result"
    }
   ],
   "source": [
    "# n: corresponds to the number of deductions\n",
    "# the probability corresponds to that type oif deduction appearing in the data for that industry and size\n",
    "deduc_dic = yml['deduc_prob_usage']\n",
    "len(deduc_dic)"
   ]
  },
  {
   "cell_type": "code",
   "execution_count": 7,
   "id": "e68af69a-17fe-46e3-aa6c-a9f5ae593153",
   "metadata": {},
   "outputs": [],
   "source": [
    "def generate_random_numbers(distribution, params, n):\n",
    "    seed = 1\n",
    "    rng = np.random.default_rng(seed = seed)\n",
    "    if distribution == 'normal':\n",
    "        return rng.normal(params['mean'], params['std'], n)\n",
    "    elif distribution == 'beta':\n",
    "        return rng.beta(params['a'], params['b'], n)\n",
    "    elif distribution == 'uniform':\n",
    "        return rng.uniform(params['low'], params['high'], n)\n",
    "    elif distribution == 'binomial':\n",
    "        return rng.binomial(params['n'], params['p'], n)\n",
    "    else:\n",
    "        raise ValueError(f\"Invalid distribution: {distribution}\")"
   ]
  },
  {
   "cell_type": "code",
   "execution_count": 8,
   "id": "f02b3029-1c74-4129-b720-c5f9ab595530",
   "metadata": {},
   "outputs": [],
   "source": [
    "def normalize_rows(matrix):\n",
    "    \n",
    "    if len(matrix.shape)==1:\n",
    "        if matrix.sum()==0:\n",
    "            pass\n",
    "        else: matrix = matrix / matrix.sum()\n",
    "        \n",
    "    else:    \n",
    "        for i in range(matrix.shape[0]):\n",
    "        # Get the sum of the current row\n",
    "            row_sum = np.sum(matrix[i,:])\n",
    "\n",
    "            # If the row sum is not zero, normalize the row\n",
    "            if row_sum != 0:\n",
    "                matrix[i,:] = matrix[i,:] / row_sum\n",
    "    return matrix"
   ]
  },
  {
   "cell_type": "markdown",
   "id": "a2cc4a47-7274-4a93-bc30-71826ae01215",
   "metadata": {},
   "source": [
    "### Generation of deductions based on yaml distributions\n",
    "Steps:\n",
    "For each deduction:\n",
    "1. Generate random 0s and 1s based on the binomial probability of having the deduction (several have very low probability)\n",
    "2. Generate random numbers based on the distribution of no-zero values, based on the distribution provided in the yaml file (data_gen_config.yaml)\n",
    "3. Multiply the vector from step 1 with the vector from step 2\n",
    "4. Normalize the vector so to sum up to one if there are deductions, or sum up to zero if there are no deductions at all."
   ]
  },
  {
   "cell_type": "code",
   "execution_count": 9,
   "id": "ceede816-fece-4d33-82aa-ed16f4e9260e",
   "metadata": {},
   "outputs": [
    {
     "name": "stdout",
     "output_type": "stream",
     "text": [
      "[[1. 0. 0.]\n",
      " [1. 0. 0.]\n",
      " [1. 0. 0.]\n",
      " ...\n",
      " [1. 0. 0.]\n",
      " [1. 0. 0.]\n",
      " [1. 0. 0.]]\n"
     ]
    }
   ],
   "source": [
    "# Generation of deductions based on yaml distributions\n",
    "n = yml['gen_sample_size']\n",
    "seed = 5\n",
    "is_first_iter = 1\n",
    "\n",
    "for deduc, p in deduc_dic.items():\n",
    "    rng = np.random.default_rng(seed = seed)\n",
    "    # step 1\n",
    "    got_deduction = rng.binomial(1, p, n)\n",
    "    #step 2\n",
    "    random_column = generate_random_numbers(yml['distribution'][deduc], yml['parameters'][deduc], n)\n",
    "    #step 3\n",
    "    final_column = got_deduction * random_column\n",
    "    \n",
    "    if is_first_iter == False:   \n",
    "        deduc_matrix = np.column_stack((deduc_matrix, final_column))\n",
    "    \n",
    "    if is_first_iter:\n",
    "        deduc_matrix = final_column\n",
    "        is_first_iter = False\n",
    "    seed +=1        \n",
    "    #print(deduc_matrix)\n",
    "\n",
    "deduc_matrix = normalize_rows(deduc_matrix)\n",
    "print(deduc_matrix)"
   ]
  },
  {
   "cell_type": "code",
   "execution_count": 10,
   "id": "660abf48-c5c1-4a97-8652-5846f4f63e9b",
   "metadata": {},
   "outputs": [],
   "source": [
    "deduc_matrix_df = pd.DataFrame(deduc_matrix, columns = yml['distribution'])\n",
    "deduc_matrix_df['agg_deduc'] = deduc_matrix_df.sum(axis=1)\n",
    "\n",
    "deduc_matrix_df.to_csv(\"sample_seed5_n=1000.csv\")"
   ]
  },
  {
   "cell_type": "code",
   "execution_count": 11,
   "id": "6308f580-4cc5-4a26-9fe1-0b33d80b556b",
   "metadata": {},
   "outputs": [
    {
     "data": {
      "text/html": [
       "<div>\n",
       "<style scoped>\n",
       "    .dataframe tbody tr th:only-of-type {\n",
       "        vertical-align: middle;\n",
       "    }\n",
       "\n",
       "    .dataframe tbody tr th {\n",
       "        vertical-align: top;\n",
       "    }\n",
       "\n",
       "    .dataframe thead th {\n",
       "        text-align: right;\n",
       "    }\n",
       "</style>\n",
       "<table border=\"1\" class=\"dataframe\">\n",
       "  <thead>\n",
       "    <tr style=\"text-align: right;\">\n",
       "      <th></th>\n",
       "      <th>deduc_x</th>\n",
       "      <th>deduc_16</th>\n",
       "      <th>deduc_17</th>\n",
       "      <th>agg_deduc</th>\n",
       "    </tr>\n",
       "  </thead>\n",
       "  <tbody>\n",
       "    <tr>\n",
       "      <th>0</th>\n",
       "      <td>1.0</td>\n",
       "      <td>0.0</td>\n",
       "      <td>0.0</td>\n",
       "      <td>1.0</td>\n",
       "    </tr>\n",
       "    <tr>\n",
       "      <th>1</th>\n",
       "      <td>1.0</td>\n",
       "      <td>0.0</td>\n",
       "      <td>0.0</td>\n",
       "      <td>1.0</td>\n",
       "    </tr>\n",
       "    <tr>\n",
       "      <th>2</th>\n",
       "      <td>1.0</td>\n",
       "      <td>0.0</td>\n",
       "      <td>0.0</td>\n",
       "      <td>1.0</td>\n",
       "    </tr>\n",
       "    <tr>\n",
       "      <th>3</th>\n",
       "      <td>1.0</td>\n",
       "      <td>0.0</td>\n",
       "      <td>0.0</td>\n",
       "      <td>1.0</td>\n",
       "    </tr>\n",
       "    <tr>\n",
       "      <th>4</th>\n",
       "      <td>1.0</td>\n",
       "      <td>0.0</td>\n",
       "      <td>0.0</td>\n",
       "      <td>1.0</td>\n",
       "    </tr>\n",
       "    <tr>\n",
       "      <th>...</th>\n",
       "      <td>...</td>\n",
       "      <td>...</td>\n",
       "      <td>...</td>\n",
       "      <td>...</td>\n",
       "    </tr>\n",
       "    <tr>\n",
       "      <th>995</th>\n",
       "      <td>1.0</td>\n",
       "      <td>0.0</td>\n",
       "      <td>0.0</td>\n",
       "      <td>1.0</td>\n",
       "    </tr>\n",
       "    <tr>\n",
       "      <th>996</th>\n",
       "      <td>1.0</td>\n",
       "      <td>0.0</td>\n",
       "      <td>0.0</td>\n",
       "      <td>1.0</td>\n",
       "    </tr>\n",
       "    <tr>\n",
       "      <th>997</th>\n",
       "      <td>1.0</td>\n",
       "      <td>0.0</td>\n",
       "      <td>0.0</td>\n",
       "      <td>1.0</td>\n",
       "    </tr>\n",
       "    <tr>\n",
       "      <th>998</th>\n",
       "      <td>1.0</td>\n",
       "      <td>0.0</td>\n",
       "      <td>0.0</td>\n",
       "      <td>1.0</td>\n",
       "    </tr>\n",
       "    <tr>\n",
       "      <th>999</th>\n",
       "      <td>1.0</td>\n",
       "      <td>0.0</td>\n",
       "      <td>0.0</td>\n",
       "      <td>1.0</td>\n",
       "    </tr>\n",
       "  </tbody>\n",
       "</table>\n",
       "<p>1000 rows × 4 columns</p>\n",
       "</div>"
      ],
      "text/plain": [
       "     deduc_x  deduc_16  deduc_17  agg_deduc\n",
       "0        1.0       0.0       0.0        1.0\n",
       "1        1.0       0.0       0.0        1.0\n",
       "2        1.0       0.0       0.0        1.0\n",
       "3        1.0       0.0       0.0        1.0\n",
       "4        1.0       0.0       0.0        1.0\n",
       "..       ...       ...       ...        ...\n",
       "995      1.0       0.0       0.0        1.0\n",
       "996      1.0       0.0       0.0        1.0\n",
       "997      1.0       0.0       0.0        1.0\n",
       "998      1.0       0.0       0.0        1.0\n",
       "999      1.0       0.0       0.0        1.0\n",
       "\n",
       "[1000 rows x 4 columns]"
      ]
     },
     "execution_count": 11,
     "metadata": {},
     "output_type": "execute_result"
    }
   ],
   "source": [
    "deduc_matrix_df"
   ]
  },
  {
   "cell_type": "code",
   "execution_count": null,
   "id": "f3508437-84ef-40c6-bb22-685c0af23d3e",
   "metadata": {},
   "outputs": [],
   "source": []
  }
 ],
 "metadata": {
  "kernelspec": {
   "display_name": "nlp2 - spacy plus azure",
   "language": "python",
   "name": "myenv"
  },
  "language_info": {
   "codemirror_mode": {
    "name": "ipython",
    "version": 3
   },
   "file_extension": ".py",
   "mimetype": "text/x-python",
   "name": "python",
   "nbconvert_exporter": "python",
   "pygments_lexer": "ipython3",
   "version": "3.8.13"
  }
 },
 "nbformat": 4,
 "nbformat_minor": 5
}
